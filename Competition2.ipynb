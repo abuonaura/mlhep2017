{
 "cells": [
  {
   "cell_type": "markdown",
   "metadata": {},
   "source": [
    "# Libraries"
   ]
  },
  {
   "cell_type": "code",
   "execution_count": 185,
   "metadata": {},
   "outputs": [],
   "source": [
    "import numpy as np\n",
    "import pandas as pd\n",
    "import matplotlib.pyplot as plt\n",
    "import matplotlib as mpl\n",
    "import pylab\n",
    "# display plots right inside notebook (not in a popup window)\n",
    "%matplotlib inline\n",
    "\n",
    "import seaborn\n",
    "from mpl_toolkits.mplot3d import Axes3D\n",
    "from mpl_toolkits.mplot3d.art3d import Line3DCollection\n",
    "\n",
    "\n",
    "BRICK_X = 124000\n",
    "BRICK_Y = 99000\n",
    "BRICK_Z = 75000\n",
    "SAFE_M = 10000\n",
    "dZ = 205"
   ]
  },
  {
   "cell_type": "markdown",
   "metadata": {},
   "source": [
    "# Open train file"
   ]
  },
  {
   "cell_type": "code",
   "execution_count": 186,
   "metadata": {},
   "outputs": [],
   "source": [
    "df = pd.read_csv('../Competition2/DS_2_train.csv', index_col=0)"
   ]
  },
  {
   "cell_type": "code",
   "execution_count": 187,
   "metadata": {},
   "outputs": [
    {
     "data": {
      "text/html": [
       "<div>\n",
       "<style>\n",
       "    .dataframe thead tr:only-child th {\n",
       "        text-align: right;\n",
       "    }\n",
       "\n",
       "    .dataframe thead th {\n",
       "        text-align: left;\n",
       "    }\n",
       "\n",
       "    .dataframe tbody tr th {\n",
       "        vertical-align: top;\n",
       "    }\n",
       "</style>\n",
       "<table border=\"1\" class=\"dataframe\">\n",
       "  <thead>\n",
       "    <tr style=\"text-align: right;\">\n",
       "      <th></th>\n",
       "      <th>event_id</th>\n",
       "      <th>X</th>\n",
       "      <th>Y</th>\n",
       "      <th>Z</th>\n",
       "      <th>TX</th>\n",
       "      <th>TY</th>\n",
       "      <th>chi2</th>\n",
       "      <th>signal</th>\n",
       "      <th>brick_number</th>\n",
       "    </tr>\n",
       "    <tr>\n",
       "      <th>index</th>\n",
       "      <th></th>\n",
       "      <th></th>\n",
       "      <th></th>\n",
       "      <th></th>\n",
       "      <th></th>\n",
       "      <th></th>\n",
       "      <th></th>\n",
       "      <th></th>\n",
       "      <th></th>\n",
       "    </tr>\n",
       "  </thead>\n",
       "  <tbody>\n",
       "    <tr>\n",
       "      <th>0</th>\n",
       "      <td>35130</td>\n",
       "      <td>50550.007812</td>\n",
       "      <td>66924.796875</td>\n",
       "      <td>65943.0</td>\n",
       "      <td>0.639179</td>\n",
       "      <td>-0.086816</td>\n",
       "      <td>0.583319</td>\n",
       "      <td>1.0</td>\n",
       "      <td>53</td>\n",
       "    </tr>\n",
       "    <tr>\n",
       "      <th>1</th>\n",
       "      <td>-999</td>\n",
       "      <td>48811.390625</td>\n",
       "      <td>65584.648438</td>\n",
       "      <td>12930.0</td>\n",
       "      <td>0.569996</td>\n",
       "      <td>0.294196</td>\n",
       "      <td>1.582101</td>\n",
       "      <td>0.0</td>\n",
       "      <td>49</td>\n",
       "    </tr>\n",
       "    <tr>\n",
       "      <th>2</th>\n",
       "      <td>-999</td>\n",
       "      <td>30120.525391</td>\n",
       "      <td>28329.425781</td>\n",
       "      <td>21981.0</td>\n",
       "      <td>-0.366648</td>\n",
       "      <td>-0.379520</td>\n",
       "      <td>1.292502</td>\n",
       "      <td>0.0</td>\n",
       "      <td>39</td>\n",
       "    </tr>\n",
       "    <tr>\n",
       "      <th>3</th>\n",
       "      <td>-999</td>\n",
       "      <td>67186.773438</td>\n",
       "      <td>23033.931641</td>\n",
       "      <td>68529.0</td>\n",
       "      <td>-0.434561</td>\n",
       "      <td>0.502130</td>\n",
       "      <td>2.832125</td>\n",
       "      <td>0.0</td>\n",
       "      <td>65</td>\n",
       "    </tr>\n",
       "    <tr>\n",
       "      <th>4</th>\n",
       "      <td>-999</td>\n",
       "      <td>64832.343750</td>\n",
       "      <td>64279.328125</td>\n",
       "      <td>7758.0</td>\n",
       "      <td>0.139993</td>\n",
       "      <td>-0.417299</td>\n",
       "      <td>2.959314</td>\n",
       "      <td>0.0</td>\n",
       "      <td>13</td>\n",
       "    </tr>\n",
       "  </tbody>\n",
       "</table>\n",
       "</div>"
      ],
      "text/plain": [
       "       event_id             X             Y        Z        TX        TY  \\\n",
       "index                                                                      \n",
       "0         35130  50550.007812  66924.796875  65943.0  0.639179 -0.086816   \n",
       "1          -999  48811.390625  65584.648438  12930.0  0.569996  0.294196   \n",
       "2          -999  30120.525391  28329.425781  21981.0 -0.366648 -0.379520   \n",
       "3          -999  67186.773438  23033.931641  68529.0 -0.434561  0.502130   \n",
       "4          -999  64832.343750  64279.328125   7758.0  0.139993 -0.417299   \n",
       "\n",
       "           chi2  signal  brick_number  \n",
       "index                                  \n",
       "0      0.583319     1.0            53  \n",
       "1      1.582101     0.0            49  \n",
       "2      1.292502     0.0            39  \n",
       "3      2.832125     0.0            65  \n",
       "4      2.959314     0.0            13  "
      ]
     },
     "execution_count": 187,
     "metadata": {},
     "output_type": "execute_result"
    }
   ],
   "source": [
    "df.head()"
   ]
  },
  {
   "cell_type": "markdown",
   "metadata": {},
   "source": [
    "# Functions definition"
   ]
  },
  {
   "cell_type": "code",
   "execution_count": 425,
   "metadata": {
    "collapsed": true
   },
   "outputs": [],
   "source": [
    "def distance3D(x1,y1,z1,x2,y2,z2):\n",
    "    return np.sqrt((x1-x2)**2+(y1-y2)**2+(z1-z2)**2)\n",
    "def distance2D(x1,y1,x2,y2):\n",
    "    return np.sqrt((x1-x2)**2+(y1-y2)**2)\n",
    "def projection(x,y,z,thetaX,thetaY,DZ):\n",
    "    x_p = x+thetaX*DZ\n",
    "    y_p = y+thetaY*DZ\n",
    "    z_p = z+DZ\n",
    "    pp = np.array([x_p, y_p, z_p,thetaX,thetaY])\n",
    "    return pp\n",
    "def ComputeIP(p_xBT,p_yBT,x0,y0):\n",
    "    return distance2D(p_xBT,p_yBT,x0,y0)\n",
    "def plate(z):\n",
    "    return (z/1293)\n",
    "def SelBTplate(df,plate):\n",
    "    z = plate*1293\n",
    "    return df[df['Z'] == z]"
   ]
  },
  {
   "cell_type": "markdown",
   "metadata": {},
   "source": [
    "# Work"
   ]
  },
  {
   "cell_type": "code",
   "execution_count": 353,
   "metadata": {},
   "outputs": [
    {
     "name": "stdout",
     "output_type": "stream",
     "text": [
      "[     0.   1293.   2586.   3879.   5172.   6465.   7758.   9051.  10344.\n",
      "  11637.  12930.  14223.  15516.  16809.  18102.  19395.  20688.  21981.\n",
      "  23274.  24567.  25860.  27153.  28446.  29739.  31032.  32325.  33618.\n",
      "  34911.  36204.  37497.  38790.  40083.  41376.  42669.  43962.  45255.\n",
      "  46548.  47841.  49134.  50427.  51720.  53013.  54306.  55599.  56892.\n",
      "  58185.  59478.  60771.  62064.  63357.  64650.  65943.  67236.  68529.\n",
      "  69822.  71115.  72408.]\n",
      "(0.0, 72408.0)\n",
      "57\n",
      "1293.0\n"
     ]
    }
   ],
   "source": [
    "z1 = np.unique(df['Z'])\n",
    "print(zl)\n",
    "zmin = np.min(zl)\n",
    "zmax = np.max(zl)\n",
    "print(zmin, zmax)\n",
    "dz = np.diff(zl)[0]\n",
    "print(len(zl))\n",
    "print(dz)"
   ]
  },
  {
   "cell_type": "markdown",
   "metadata": {},
   "source": [
    "## Select just one brick"
   ]
  },
  {
   "cell_type": "code",
   "execution_count": 339,
   "metadata": {},
   "outputs": [
    {
     "data": {
      "text/html": [
       "<div>\n",
       "<style>\n",
       "    .dataframe thead tr:only-child th {\n",
       "        text-align: right;\n",
       "    }\n",
       "\n",
       "    .dataframe thead th {\n",
       "        text-align: left;\n",
       "    }\n",
       "\n",
       "    .dataframe tbody tr th {\n",
       "        vertical-align: top;\n",
       "    }\n",
       "</style>\n",
       "<table border=\"1\" class=\"dataframe\">\n",
       "  <thead>\n",
       "    <tr style=\"text-align: right;\">\n",
       "      <th></th>\n",
       "      <th>event_id</th>\n",
       "      <th>X</th>\n",
       "      <th>Y</th>\n",
       "      <th>Z</th>\n",
       "      <th>TX</th>\n",
       "      <th>TY</th>\n",
       "      <th>chi2</th>\n",
       "      <th>signal</th>\n",
       "      <th>brick_number</th>\n",
       "    </tr>\n",
       "    <tr>\n",
       "      <th>index</th>\n",
       "      <th></th>\n",
       "      <th></th>\n",
       "      <th></th>\n",
       "      <th></th>\n",
       "      <th></th>\n",
       "      <th></th>\n",
       "      <th></th>\n",
       "      <th></th>\n",
       "      <th></th>\n",
       "    </tr>\n",
       "  </thead>\n",
       "  <tbody>\n",
       "    <tr>\n",
       "      <th>16</th>\n",
       "      <td>-999</td>\n",
       "      <td>66551.648438</td>\n",
       "      <td>24635.142578</td>\n",
       "      <td>38790.0</td>\n",
       "      <td>0.177493</td>\n",
       "      <td>0.548196</td>\n",
       "      <td>2.988174</td>\n",
       "      <td>0.0</td>\n",
       "      <td>1</td>\n",
       "    </tr>\n",
       "    <tr>\n",
       "      <th>102</th>\n",
       "      <td>-999</td>\n",
       "      <td>50568.820312</td>\n",
       "      <td>59204.046875</td>\n",
       "      <td>16809.0</td>\n",
       "      <td>-0.291071</td>\n",
       "      <td>-0.078534</td>\n",
       "      <td>1.829833</td>\n",
       "      <td>0.0</td>\n",
       "      <td>1</td>\n",
       "    </tr>\n",
       "    <tr>\n",
       "      <th>114</th>\n",
       "      <td>-999</td>\n",
       "      <td>68309.476562</td>\n",
       "      <td>34104.570312</td>\n",
       "      <td>69822.0</td>\n",
       "      <td>0.182571</td>\n",
       "      <td>0.494847</td>\n",
       "      <td>0.428966</td>\n",
       "      <td>0.0</td>\n",
       "      <td>1</td>\n",
       "    </tr>\n",
       "    <tr>\n",
       "      <th>209</th>\n",
       "      <td>-999</td>\n",
       "      <td>32509.529297</td>\n",
       "      <td>54608.429688</td>\n",
       "      <td>37497.0</td>\n",
       "      <td>-0.486179</td>\n",
       "      <td>0.243992</td>\n",
       "      <td>0.638762</td>\n",
       "      <td>0.0</td>\n",
       "      <td>1</td>\n",
       "    </tr>\n",
       "    <tr>\n",
       "      <th>251</th>\n",
       "      <td>-999</td>\n",
       "      <td>54277.628906</td>\n",
       "      <td>23722.109375</td>\n",
       "      <td>23274.0</td>\n",
       "      <td>0.421205</td>\n",
       "      <td>-0.286570</td>\n",
       "      <td>1.071702</td>\n",
       "      <td>0.0</td>\n",
       "      <td>1</td>\n",
       "    </tr>\n",
       "  </tbody>\n",
       "</table>\n",
       "</div>"
      ],
      "text/plain": [
       "       event_id             X             Y        Z        TX        TY  \\\n",
       "index                                                                      \n",
       "16         -999  66551.648438  24635.142578  38790.0  0.177493  0.548196   \n",
       "102        -999  50568.820312  59204.046875  16809.0 -0.291071 -0.078534   \n",
       "114        -999  68309.476562  34104.570312  69822.0  0.182571  0.494847   \n",
       "209        -999  32509.529297  54608.429688  37497.0 -0.486179  0.243992   \n",
       "251        -999  54277.628906  23722.109375  23274.0  0.421205 -0.286570   \n",
       "\n",
       "           chi2  signal  brick_number  \n",
       "index                                  \n",
       "16     2.988174     0.0             1  \n",
       "102    1.829833     0.0             1  \n",
       "114    0.428966     0.0             1  \n",
       "209    0.638762     0.0             1  \n",
       "251    1.071702     0.0             1  "
      ]
     },
     "execution_count": 339,
     "metadata": {},
     "output_type": "execute_result"
    }
   ],
   "source": [
    "brk = df[df['brick_number']==1]\n",
    "brk.head()"
   ]
  },
  {
   "cell_type": "code",
   "execution_count": 340,
   "metadata": {},
   "outputs": [
    {
     "name": "stdout",
     "output_type": "stream",
     "text": [
      "894897\n"
     ]
    }
   ],
   "source": [
    "print(brk.size)"
   ]
  },
  {
   "cell_type": "code",
   "execution_count": 341,
   "metadata": {},
   "outputs": [
    {
     "name": "stdout",
     "output_type": "stream",
     "text": [
      "27545.5255403\n",
      "42346.8154962\n"
     ]
    },
    {
     "data": {
      "text/plain": [
       "(array([  1.25766129e-05,   1.75364040e-05,   2.25847627e-05,\n",
       "          2.22304919e-05,   2.52417936e-05,   1.56764823e-05,\n",
       "          9.78673050e-06,   3.14415324e-06,   1.06281236e-06,\n",
       "          2.65703090e-07]),\n",
       " array([   126.50530972,   7812.54907526,  15498.5928408 ,  23184.63660634,\n",
       "         30870.68037188,  38556.72413742,  46242.76790296,  53928.8116685 ,\n",
       "         61614.85543404,  69300.89919958,  76986.94296512]),\n",
       " <a list of 10 Patch objects>)"
      ]
     },
     "execution_count": 341,
     "metadata": {},
     "output_type": "execute_result"
    },
    {
     "data": {
      "image/png": "[encoded data removed]",
      "text/plain": [
       "<matplotlib.figure.Figure at 0x12b16ff90>"
      ]
     },
     "metadata": {},
     "output_type": "display_data"
    }
   ],
   "source": [
    "#np.diff returns the difference between the i+1 and i value of the array\n",
    "distS = np.sqrt(np.diff(brk[brk.signal==True].values[:,1])**2+np.diff(brk[brk.signal==True].values[:,2])**2+np.diff(brk[brk.signal==True].values[:,3])**2)\n",
    "distB = np.sqrt(np.diff(brk[brk.signal==False].values[:,1])**2+np.diff(brk[brk.signal==False].values[:,2])**2+np.diff(brk[brk.signal==False].values[:,3])**2)\n",
    "\n",
    "\n",
    "print(np.mean(distS))\n",
    "print(np.mean(distB))\n",
    "\n",
    "plt.hist(distB,normed=1)\n",
    "plt.hist(distS,normed=1)\n"
   ]
  },
  {
   "cell_type": "code",
   "execution_count": 342,
   "metadata": {},
   "outputs": [
    {
     "name": "stdout",
     "output_type": "stream",
     "text": [
      "(2938,)\n",
      "(96493,)\n"
     ]
    },
    {
     "data": {
      "text/plain": [
       "(array([ 0.00287648,  0.05713415,  0.25927901,  0.56059064,  0.8186831 ,\n",
       "         0.83234639,  0.58762958,  0.28078072,  0.06630294,  0.00388325]),\n",
       " array([-1.45239955, -1.1641741 , -0.87594866, -0.58772321, -0.29949776,\n",
       "        -0.01127231,  0.27695314,  0.56517859,  0.85340403,  1.14162948,\n",
       "         1.42985493]),\n",
       " <a list of 10 Patch objects>)"
      ]
     },
     "execution_count": 342,
     "metadata": {},
     "output_type": "execute_result"
    },
    {
     "data": {
      "image/png": "[encoded data removed]",
      "text/plain": [
       "<matplotlib.figure.Figure at 0x12d90ca10>"
      ]
     },
     "metadata": {},
     "output_type": "display_data"
    }
   ],
   "source": [
    "DTxS = np.diff(brk[brk.signal==True].values[:,4])\n",
    "DTxB = np.diff(brk[brk.signal==False].values[:,4])\n",
    "DTyS = np.diff(brk[brk.signal==True].values[:,5])\n",
    "DTyB = np.diff(brk[brk.signal==False].values[:,5])\n",
    "\n",
    "print(DTxS.shape)\n",
    "print(DTxB.shape)\n",
    "\n",
    "plt.hist(DTxS,normed=1)\n",
    "plt.hist(DTxB,normed=1)\n",
    "\n"
   ]
  },
  {
   "cell_type": "code",
   "execution_count": null,
   "metadata": {
    "collapsed": true
   },
   "outputs": [],
   "source": []
  },
  {
   "cell_type": "code",
   "execution_count": null,
   "metadata": {
    "collapsed": true
   },
   "outputs": [],
   "source": []
  },
  {
   "cell_type": "code",
   "execution_count": 343,
   "metadata": {},
   "outputs": [
    {
     "data": {
      "text/plain": [
       "<matplotlib.colorbar.Colorbar at 0x12cd9a1d0>"
      ]
     },
     "execution_count": 343,
     "metadata": {},
     "output_type": "execute_result"
    },
    {
     "data": {
      "image/png": "[encoded data removed]",
      "text/plain": [
       "<matplotlib.figure.Figure at 0x12d931210>"
      ]
     },
     "metadata": {},
     "output_type": "display_data"
    }
   ],
   "source": [
    "fig, ax = plt.subplots()\n",
    "#plt.hist2d(brk[brk.signal==True].values[:,1],brk[brk.signal==True].values[:,2],bins=(100,100))\n",
    "plt.hist2d(brk.values[:,1],brk.values[:,2],bins=(20,20),cmap='jet')\n",
    "plt.colorbar()"
   ]
  },
  {
   "cell_type": "code",
   "execution_count": 344,
   "metadata": {},
   "outputs": [
    {
     "data": {
      "text/plain": [
       "<matplotlib.colorbar.Colorbar at 0x12cfc4450>"
      ]
     },
     "execution_count": 344,
     "metadata": {},
     "output_type": "execute_result"
    },
    {
     "data": {
      "image/png": "[encoded data removed]",
      "text/plain": [
       "<matplotlib.figure.Figure at 0x1448f6f50>"
      ]
     },
     "metadata": {},
     "output_type": "display_data"
    }
   ],
   "source": [
    "fig, ax = plt.subplots()\n",
    "plt.hist2d(brk[brk.signal==True].values[:,4],brk[brk.signal==True].values[:,5],bins=(100,100),cmap='jet')\n",
    "#plt.hist2d(brk.values[:,4],brk.values[:,5],bins=(50,50),cmap='jet')\n",
    "plt.colorbar()"
   ]
  },
  {
   "cell_type": "code",
   "execution_count": 345,
   "metadata": {},
   "outputs": [
    {
     "data": {
      "text/plain": [
       "(array([   25.,    84.,   166.,   480.,  1086.,   698.,   231.,    94.,\n",
       "           52.,    23.]),\n",
       " array([-0.99168344, -0.79266571, -0.59364797, -0.39463023, -0.19561249,\n",
       "         0.00340525,  0.20242299,  0.40144073,  0.60045846,  0.7994762 ,\n",
       "         0.99849394]),\n",
       " <a list of 10 Patch objects>)"
      ]
     },
     "execution_count": 345,
     "metadata": {},
     "output_type": "execute_result"
    },
    {
     "data": {
      "image/png": "[encoded data removed]",
      "text/plain": [
       "<matplotlib.figure.Figure at 0x12b6c4110>"
      ]
     },
     "metadata": {},
     "output_type": "display_data"
    }
   ],
   "source": [
    "plt.hist(brk[brk.signal==0][\"TX\"])\n",
    "plt.hist(brk[brk.signal==1][\"TX\"])\n"
   ]
  },
  {
   "cell_type": "code",
   "execution_count": 346,
   "metadata": {},
   "outputs": [
    {
     "data": {
      "text/plain": [
       "(array([   16.,    43.,    91.,   200.,   618.,  1291.,   420.,   145.,\n",
       "           81.,    34.]),\n",
       " array([-0.9809194 , -0.7832421 , -0.58556481, -0.38788751, -0.19021022,\n",
       "         0.00746708,  0.20514437,  0.40282167,  0.60049896,  0.79817626,\n",
       "         0.99585355]),\n",
       " <a list of 10 Patch objects>)"
      ]
     },
     "execution_count": 346,
     "metadata": {},
     "output_type": "execute_result"
    },
    {
     "data": {
      "image/png": "[encoded data removed]",
      "text/plain": [
       "<matplotlib.figure.Figure at 0x1449156d0>"
      ]
     },
     "metadata": {},
     "output_type": "display_data"
    }
   ],
   "source": [
    "plt.hist(brk[brk.signal==0][\"TY\"])\n",
    "plt.hist(brk[brk.signal==1][\"TY\"])"
   ]
  },
  {
   "cell_type": "code",
   "execution_count": 347,
   "metadata": {
    "collapsed": true
   },
   "outputs": [],
   "source": [
    "alpha_m = 0.05"
   ]
  },
  {
   "cell_type": "code",
   "execution_count": 348,
   "metadata": {},
   "outputs": [
    {
     "name": "stdout",
     "output_type": "stream",
     "text": [
      "[[  228   566   738   923  1118  1327]\n",
      " [ 1500  1556  1384  1232  3168  4312]\n",
      " [ 5266  6354  7145  8250  8560  7541]\n",
      " [ 1753  4680  6356  7991  9903 11205]\n",
      " [12752 12974 11364  1760  4724  6294]\n",
      " [ 7918  9911 11384 13167 13388 11775]\n",
      " [ 1302  3416  4504  5667  7038  8084]\n",
      " [ 9379  9553  8415   252   696   959]\n",
      " [ 1201  1491  1708  1961  2041  1793]]\n",
      "()\n",
      "[[False False False False False False]\n",
      " [False False False False False False]\n",
      " [False  True  True  True  True  True]\n",
      " [False False  True  True  True  True]\n",
      " [ True  True  True False False  True]\n",
      " [ True  True  True  True  True  True]\n",
      " [False False False False  True  True]\n",
      " [ True  True  True False False False]\n",
      " [False False False False False False]]\n"
     ]
    }
   ],
   "source": [
    "nbt = np.array([])\n",
    "for i in range(0,6):\n",
    "    rangeX = ([20000+i*10000,20000+(i+1)*10000])\n",
    "    #print(\"X: \",rangeX)\n",
    "    for j in range(0,9):\n",
    "        rangeY = ([j*5000,(j+1)*10000])\n",
    "        #print(rangeY)\n",
    "        sel = brk[(brk['X']<rangeX[1])&(brk['Z']>rangeX[0])&(brk['Y']>rangeY[0])&(brk['Y']<rangeY[1])]\n",
    "        nbt=np.append(nbt,len(sel)).astype(int)\n",
    "nbt = nbt.reshape(9,6)\n",
    "print(nbt) \n",
    "print()\n",
    "print(nbt>6000)"
   ]
  },
  {
   "cell_type": "code",
   "execution_count": 349,
   "metadata": {},
   "outputs": [
    {
     "data": {
      "text/plain": [
       "<matplotlib.collections.PathCollection at 0x129f75f10>"
      ]
     },
     "execution_count": 349,
     "metadata": {},
     "output_type": "execute_result"
    },
    {
     "data": {
      "image/png": "[encoded data removed]",
      "text/plain": [
       "<matplotlib.figure.Figure at 0x144915c10>"
      ]
     },
     "metadata": {},
     "output_type": "display_data"
    }
   ],
   "source": [
    "fig, ax = plt.subplots()\n",
    "ax.scatter(brk[brk.signal==True].values[:,1],brk[brk.signal==True].values[:,2])\n"
   ]
  },
  {
   "cell_type": "code",
   "execution_count": 350,
   "metadata": {},
   "outputs": [
    {
     "data": {
      "text/plain": [
       "(array([[ 0.,  0.,  0., ...,  0.,  0.,  0.],\n",
       "        [ 0.,  0.,  0., ...,  0.,  0.,  0.],\n",
       "        [ 0.,  0.,  0., ...,  0.,  0.,  0.],\n",
       "        ..., \n",
       "        [ 0.,  0.,  0., ...,  0.,  0.,  0.],\n",
       "        [ 0.,  0.,  0., ...,  0.,  0.,  0.],\n",
       "        [ 0.,  0.,  0., ...,  0.,  0.,  0.]]),\n",
       " array([ -27596.42958322,  -24622.42091589,  -21648.41224857,\n",
       "         -18674.40358124,  -15700.39491391,  -12726.38624658,\n",
       "          -9752.37757925,   -6778.36891192,   -3804.36024459,\n",
       "           -830.35157726,    2143.65709006,    5117.66575739,\n",
       "           8091.67442472,   11065.68309205,   14039.69175938,\n",
       "          17013.70042671,   19987.70909404,   22961.71776136,\n",
       "          25935.72642869,   28909.73509602,   31883.74376335,\n",
       "          34857.75243068,   37831.76109801,   40805.76976534,\n",
       "          43779.77843267,   46753.78709999,   49727.79576732,\n",
       "          52701.80443465,   55675.81310198,   58649.82176931,\n",
       "          61623.83043664,   64597.83910397,   67571.84777129,\n",
       "          70545.85643862,   73519.86510595,   76493.87377328,\n",
       "          79467.88244061,   82441.89110794,   85415.89977527,\n",
       "          88389.9084426 ,   91363.91710992,   94337.92577725,\n",
       "          97311.93444458,  100285.94311191,  103259.95177924,\n",
       "         106233.96044657,  109207.9691139 ,  112181.97778122,\n",
       "         115155.98644855,  118129.99511588,  121104.00378321]),\n",
       " array([ -42451.38498946,  -39087.1024501 ,  -35722.81991073,\n",
       "         -32358.53737136,  -28994.254832  ,  -25629.97229263,\n",
       "         -22265.68975326,  -18901.4072139 ,  -15537.12467453,\n",
       "         -12172.84213516,   -8808.5595958 ,   -5444.27705643,\n",
       "          -2079.99451706,    1284.2880223 ,    4648.57056167,\n",
       "           8012.85310104,   11377.13564041,   14741.41817977,\n",
       "          18105.70071914,   21469.98325851,   24834.26579787,\n",
       "          28198.54833724,   31562.83087661,   34927.11341597,\n",
       "          38291.39595534,   41655.67849471,   45019.96103407,\n",
       "          48384.24357344,   51748.52611281,   55112.80865217,\n",
       "          58477.09119154,   61841.37373091,   65205.65627027,\n",
       "          68569.93880964,   71934.22134901,   75298.50388837,\n",
       "          78662.78642774,   82027.06896711,   85391.35150647,\n",
       "          88755.63404584,   92119.91658521,   95484.19912457,\n",
       "          98848.48166394,  102212.76420331,  105577.04674267,\n",
       "         108941.32928204,  112305.61182141,  115669.89436077,\n",
       "         119034.17690014,  122398.45943951,  125762.74197888]),\n",
       " <matplotlib.image.AxesImage at 0x12cd51a10>)"
      ]
     },
     "execution_count": 350,
     "metadata": {},
     "output_type": "execute_result"
    },
    {
     "data": {
      "image/png": "[encoded data removed]",
      "text/plain": [
       "<matplotlib.figure.Figure at 0x12c033390>"
      ]
     },
     "metadata": {},
     "output_type": "display_data"
    }
   ],
   "source": [
    "proj = projection(brk['X'],brk['Y'],brk['Z'],brk['TX'],brk['TY'],-brk['Z'])\n",
    "plt.hist2d(proj[0],proj[1],bins=(50,50),cmap='jet')"
   ]
  },
  {
   "cell_type": "code",
   "execution_count": 441,
   "metadata": {},
   "outputs": [],
   "source": [
    "def ComputeR(x,y,xc,yc):\n",
    "    R = np.sqrt((x-xc)**2+(y-yc)**2)\n",
    "    return R\n",
    "def CheckSlopes(tx_0,ty_0,tx_1,ty_1):\n",
    "    DTX = tx_0-tx_1\n",
    "    DTY = ty_0-ty_1\n",
    "    #print(tx_0,ty_0,tx_1,ty_1,DTX,DTY)\n",
    "    if((np.abs(DTX)<0.05)&(np.abs(DTY)<0.05)):\n",
    "        return True"
   ]
  },
  {
   "cell_type": "code",
   "execution_count": 446,
   "metadata": {
    "scrolled": false
   },
   "outputs": [
    {
     "name": "stdout",
     "output_type": "stream",
     "text": [
      "(49.276503813937531, True, 21.0)\n",
      "0.0\n",
      "(24.936562580281841, True, 21.0)\n",
      "0.0\n",
      "(45.514474837867191, True, 29.0)\n",
      "0.0\n",
      "(95.536755264376197, True, 34.0)\n",
      "0.0\n",
      "(91.702910685130377, True, 39.0)\n",
      "0.0\n",
      "(81.65426034114067, True, 42.0)\n",
      "0.0\n",
      "(67.661280124787766, True, 43.0)\n",
      "0.0\n",
      "[ 59035.7617188  59326.7539062  27153.         33826.9335938  34836.1132812\n",
      "  27153.         53112.0546875  44149.2109375  37497.         49095.828125\n",
      "  26792.75       43962.         39599.0625     67095.859375   50427.\n",
      "  38111.7890625  55645.5625     54306.         61163.1796875  19173.3046875\n",
      "  55599.       ]\n"
     ]
    }
   ],
   "source": [
    "R = 100 #open a circle of 500 um on each trk\n",
    "ele_pos=np.array([])\n",
    "#for z in z1[51:54]:\n",
    "for z in z1:\n",
    "    trk = brk[brk['Z'] == z]\n",
    "    trk_proj = projection(trk['X'],trk['Y'],trk['Z'],trk['TX'],trk['TY'],1293)\n",
    "    for j in range(len(trk_proj)):\n",
    "        trk_nxt = brk[brk['Z'] == (z+1293)]\n",
    "        for i in range(len(trk_nxt)):\n",
    "            #print (trk_nxt['X'].iloc[i])\n",
    "            R1=ComputeR(trk_nxt['X'].iloc[i],trk_nxt['X'].iloc[i],trk_proj[2,j],trk_proj[2,j])\n",
    "            if R1<R:\n",
    "                check = CheckSlopes(trk_proj[3,j],trk_proj[4,j],trk_nxt['TX'].iloc[i],trk_nxt['TY'].iloc[i])\n",
    "                if check == True:\n",
    "                    print (R1,check,z/1293)\n",
    "                    ele_pos = np.append(ele_pos,[trk['X'].iloc[j],trk['Y'].iloc[j],trk['Z'].iloc[j]])\n",
    "                    print(trk['signal'].iloc[j])\n",
    "            #if ((tn['X'])\n",
    "print (ele_pos)\n"
   ]
  },
  {
   "cell_type": "code",
   "execution_count": 438,
   "metadata": {},
   "outputs": [
    {
     "name": "stdout",
     "output_type": "stream",
     "text": [
      "64.7039289296\n"
     ]
    }
   ],
   "source": [
    "Rmax = np.tan(0.05)*1293\n",
    "print(Rmax)"
   ]
  },
  {
   "cell_type": "code",
   "execution_count": null,
   "metadata": {
    "collapsed": true
   },
   "outputs": [],
   "source": []
  }
 ],
 "metadata": {
  "kernelspec": {
   "display_name": "Python 2",
   "language": "python",
   "name": "python2"
  },
  "language_info": {
   "codemirror_mode": {
    "name": "ipython",
    "version": 2
   },
   "file_extension": ".py",
   "mimetype": "text/x-python",
   "name": "python",
   "nbconvert_exporter": "python",
   "pygments_lexer": "ipython2",
   "version": "2.7.13"
  }
 },
 "nbformat": 4,
 "nbformat_minor": 2
}
