{
 "cells": [
  {
   "cell_type": "markdown",
   "metadata": {},
   "source": [
    "# Libraries"
   ]
  },
  {
   "cell_type": "code",
   "execution_count": 107,
   "metadata": {},
   "outputs": [],
   "source": [
    "import numpy as np\n",
    "import pandas as pd\n",
    "import matplotlib.pyplot as plt\n",
    "import matplotlib as mpl\n",
    "import pylab\n",
    "# display plots right inside notebook (not in a popup window)\n",
    "%matplotlib inline\n",
    "\n",
    "#import seaborn\n",
    "from mpl_toolkits.mplot3d import Axes3D\n",
    "from mpl_toolkits.mplot3d.art3d import Line3DCollection\n",
    "\n",
    "\n",
    "BRICK_X = 124000\n",
    "BRICK_Y = 99000\n",
    "BRICK_Z = 75000\n",
    "SAFE_M = 10000\n",
    "dZ = 205"
   ]
  },
  {
   "cell_type": "markdown",
   "metadata": {},
   "source": [
    "# Open train file"
   ]
  },
  {
   "cell_type": "code",
   "execution_count": 71,
   "metadata": {},
   "outputs": [],
   "source": [
    "df = pd.read_csv('../Competition2/DS_2_train.csv', index_col=0)"
   ]
  },
  {
   "cell_type": "code",
   "execution_count": 3,
   "metadata": {},
   "outputs": [
    {
     "data": {
      "text/html": [
       "<div>\n",
       "<style>\n",
       "    .dataframe thead tr:only-child th {\n",
       "        text-align: right;\n",
       "    }\n",
       "\n",
       "    .dataframe thead th {\n",
       "        text-align: left;\n",
       "    }\n",
       "\n",
       "    .dataframe tbody tr th {\n",
       "        vertical-align: top;\n",
       "    }\n",
       "</style>\n",
       "<table border=\"1\" class=\"dataframe\">\n",
       "  <thead>\n",
       "    <tr style=\"text-align: right;\">\n",
       "      <th></th>\n",
       "      <th>event_id</th>\n",
       "      <th>X</th>\n",
       "      <th>Y</th>\n",
       "      <th>Z</th>\n",
       "      <th>TX</th>\n",
       "      <th>TY</th>\n",
       "      <th>chi2</th>\n",
       "      <th>signal</th>\n",
       "      <th>brick_number</th>\n",
       "    </tr>\n",
       "    <tr>\n",
       "      <th>index</th>\n",
       "      <th></th>\n",
       "      <th></th>\n",
       "      <th></th>\n",
       "      <th></th>\n",
       "      <th></th>\n",
       "      <th></th>\n",
       "      <th></th>\n",
       "      <th></th>\n",
       "      <th></th>\n",
       "    </tr>\n",
       "  </thead>\n",
       "  <tbody>\n",
       "    <tr>\n",
       "      <th>0</th>\n",
       "      <td>35130</td>\n",
       "      <td>50550.007812</td>\n",
       "      <td>66924.796875</td>\n",
       "      <td>65943.0</td>\n",
       "      <td>0.639179</td>\n",
       "      <td>-0.086816</td>\n",
       "      <td>0.583319</td>\n",
       "      <td>1.0</td>\n",
       "      <td>53</td>\n",
       "    </tr>\n",
       "    <tr>\n",
       "      <th>1</th>\n",
       "      <td>-999</td>\n",
       "      <td>48811.390625</td>\n",
       "      <td>65584.648438</td>\n",
       "      <td>12930.0</td>\n",
       "      <td>0.569996</td>\n",
       "      <td>0.294196</td>\n",
       "      <td>1.582101</td>\n",
       "      <td>0.0</td>\n",
       "      <td>49</td>\n",
       "    </tr>\n",
       "    <tr>\n",
       "      <th>2</th>\n",
       "      <td>-999</td>\n",
       "      <td>30120.525391</td>\n",
       "      <td>28329.425781</td>\n",
       "      <td>21981.0</td>\n",
       "      <td>-0.366648</td>\n",
       "      <td>-0.379520</td>\n",
       "      <td>1.292502</td>\n",
       "      <td>0.0</td>\n",
       "      <td>39</td>\n",
       "    </tr>\n",
       "    <tr>\n",
       "      <th>3</th>\n",
       "      <td>-999</td>\n",
       "      <td>67186.773438</td>\n",
       "      <td>23033.931641</td>\n",
       "      <td>68529.0</td>\n",
       "      <td>-0.434561</td>\n",
       "      <td>0.502130</td>\n",
       "      <td>2.832125</td>\n",
       "      <td>0.0</td>\n",
       "      <td>65</td>\n",
       "    </tr>\n",
       "    <tr>\n",
       "      <th>4</th>\n",
       "      <td>-999</td>\n",
       "      <td>64832.343750</td>\n",
       "      <td>64279.328125</td>\n",
       "      <td>7758.0</td>\n",
       "      <td>0.139993</td>\n",
       "      <td>-0.417299</td>\n",
       "      <td>2.959314</td>\n",
       "      <td>0.0</td>\n",
       "      <td>13</td>\n",
       "    </tr>\n",
       "  </tbody>\n",
       "</table>\n",
       "</div>"
      ],
      "text/plain": [
       "       event_id             X             Y        Z        TX        TY  \\\n",
       "index                                                                      \n",
       "0         35130  50550.007812  66924.796875  65943.0  0.639179 -0.086816   \n",
       "1          -999  48811.390625  65584.648438  12930.0  0.569996  0.294196   \n",
       "2          -999  30120.525391  28329.425781  21981.0 -0.366648 -0.379520   \n",
       "3          -999  67186.773438  23033.931641  68529.0 -0.434561  0.502130   \n",
       "4          -999  64832.343750  64279.328125   7758.0  0.139993 -0.417299   \n",
       "\n",
       "           chi2  signal  brick_number  \n",
       "index                                  \n",
       "0      0.583319     1.0            53  \n",
       "1      1.582101     0.0            49  \n",
       "2      1.292502     0.0            39  \n",
       "3      2.832125     0.0            65  \n",
       "4      2.959314     0.0            13  "
      ]
     },
     "execution_count": 3,
     "metadata": {},
     "output_type": "execute_result"
    }
   ],
   "source": [
    "df.head()"
   ]
  },
  {
   "cell_type": "markdown",
   "metadata": {},
   "source": [
    "# Functions definition"
   ]
  },
  {
   "cell_type": "code",
   "execution_count": 15,
   "metadata": {
    "collapsed": true
   },
   "outputs": [],
   "source": [
    "def distance3D(x1,y1,z1,x2,y2,z2):\n",
    "    return np.sqrt((x1-x2)**2+(y1-y2)**2+(z1-z2)**2)\n",
    "def distance2D(x1,y1,x2,y2):\n",
    "    return np.sqrt((x1-x2)**2+(y1-y2)**2)\n",
    "def projection(x,theta,DZ):\n",
    "    return x+theta*DZ\n",
    "def ComputeIP(p_xBT,p_yBT,x0,y0):\n",
    "    return distance2D(p_xBT,p_yBT,x0,y0)\n",
    "def plate(z):\n",
    "    return (z/1293)\n",
    "def SelBTplate(df,plate):\n",
    "    z = plate*1293\n",
    "    return df[df['Z'] == z]"
   ]
  },
  {
   "cell_type": "markdown",
   "metadata": {},
   "source": [
    "# Work"
   ]
  },
  {
   "cell_type": "code",
   "execution_count": 24,
   "metadata": {},
   "outputs": [
    {
     "name": "stdout",
     "output_type": "stream",
     "text": [
      "[     0.   1293.   2586.   3879.   5172.   6465.   7758.   9051.  10344.\n",
      "  11637.  12930.  14223.  15516.  16809.  18102.  19395.  20688.  21981.\n",
      "  23274.  24567.  25860.  27153.  28446.  29739.  31032.  32325.  33618.\n",
      "  34911.  36204.  37497.  38790.  40083.  41376.  42669.  43962.  45255.\n",
      "  46548.  47841.  49134.  50427.  51720.  53013.  54306.  55599.  56892.\n",
      "  58185.  59478.  60771.  62064.  63357.  64650.  65943.  67236.  68529.\n",
      "  69822.  71115.  72408.]\n",
      "(0.0, 72408.0)\n",
      "57\n",
      "1293.0\n"
     ]
    }
   ],
   "source": [
    "zl = np.unique(df['Z'])\n",
    "print(zl)\n",
    "zmin = np.min(zl)\n",
    "zmax = np.max(zl)\n",
    "print(zmin, zmax)\n",
    "dz = np.diff(zl)[0]\n",
    "print(len(zl))\n",
    "print(dz)"
   ]
  },
  {
   "cell_type": "markdown",
   "metadata": {},
   "source": [
    "## Select just one brick"
   ]
  },
  {
   "cell_type": "code",
   "execution_count": 34,
   "metadata": {},
   "outputs": [
    {
     "data": {
      "text/html": [
       "<div>\n",
       "<style>\n",
       "    .dataframe thead tr:only-child th {\n",
       "        text-align: right;\n",
       "    }\n",
       "\n",
       "    .dataframe thead th {\n",
       "        text-align: left;\n",
       "    }\n",
       "\n",
       "    .dataframe tbody tr th {\n",
       "        vertical-align: top;\n",
       "    }\n",
       "</style>\n",
       "<table border=\"1\" class=\"dataframe\">\n",
       "  <thead>\n",
       "    <tr style=\"text-align: right;\">\n",
       "      <th></th>\n",
       "      <th>event_id</th>\n",
       "      <th>X</th>\n",
       "      <th>Y</th>\n",
       "      <th>Z</th>\n",
       "      <th>TX</th>\n",
       "      <th>TY</th>\n",
       "      <th>chi2</th>\n",
       "      <th>signal</th>\n",
       "      <th>brick_number</th>\n",
       "    </tr>\n",
       "    <tr>\n",
       "      <th>index</th>\n",
       "      <th></th>\n",
       "      <th></th>\n",
       "      <th></th>\n",
       "      <th></th>\n",
       "      <th></th>\n",
       "      <th></th>\n",
       "      <th></th>\n",
       "      <th></th>\n",
       "      <th></th>\n",
       "    </tr>\n",
       "  </thead>\n",
       "  <tbody>\n",
       "    <tr>\n",
       "      <th>16</th>\n",
       "      <td>-999</td>\n",
       "      <td>66551.648438</td>\n",
       "      <td>24635.142578</td>\n",
       "      <td>38790.0</td>\n",
       "      <td>0.177493</td>\n",
       "      <td>0.548196</td>\n",
       "      <td>2.988174</td>\n",
       "      <td>0.0</td>\n",
       "      <td>1</td>\n",
       "    </tr>\n",
       "    <tr>\n",
       "      <th>102</th>\n",
       "      <td>-999</td>\n",
       "      <td>50568.820312</td>\n",
       "      <td>59204.046875</td>\n",
       "      <td>16809.0</td>\n",
       "      <td>-0.291071</td>\n",
       "      <td>-0.078534</td>\n",
       "      <td>1.829833</td>\n",
       "      <td>0.0</td>\n",
       "      <td>1</td>\n",
       "    </tr>\n",
       "    <tr>\n",
       "      <th>114</th>\n",
       "      <td>-999</td>\n",
       "      <td>68309.476562</td>\n",
       "      <td>34104.570312</td>\n",
       "      <td>69822.0</td>\n",
       "      <td>0.182571</td>\n",
       "      <td>0.494847</td>\n",
       "      <td>0.428966</td>\n",
       "      <td>0.0</td>\n",
       "      <td>1</td>\n",
       "    </tr>\n",
       "    <tr>\n",
       "      <th>209</th>\n",
       "      <td>-999</td>\n",
       "      <td>32509.529297</td>\n",
       "      <td>54608.429688</td>\n",
       "      <td>37497.0</td>\n",
       "      <td>-0.486179</td>\n",
       "      <td>0.243992</td>\n",
       "      <td>0.638762</td>\n",
       "      <td>0.0</td>\n",
       "      <td>1</td>\n",
       "    </tr>\n",
       "    <tr>\n",
       "      <th>251</th>\n",
       "      <td>-999</td>\n",
       "      <td>54277.628906</td>\n",
       "      <td>23722.109375</td>\n",
       "      <td>23274.0</td>\n",
       "      <td>0.421205</td>\n",
       "      <td>-0.286570</td>\n",
       "      <td>1.071702</td>\n",
       "      <td>0.0</td>\n",
       "      <td>1</td>\n",
       "    </tr>\n",
       "  </tbody>\n",
       "</table>\n",
       "</div>"
      ],
      "text/plain": [
       "       event_id             X             Y        Z        TX        TY  \\\n",
       "index                                                                      \n",
       "16         -999  66551.648438  24635.142578  38790.0  0.177493  0.548196   \n",
       "102        -999  50568.820312  59204.046875  16809.0 -0.291071 -0.078534   \n",
       "114        -999  68309.476562  34104.570312  69822.0  0.182571  0.494847   \n",
       "209        -999  32509.529297  54608.429688  37497.0 -0.486179  0.243992   \n",
       "251        -999  54277.628906  23722.109375  23274.0  0.421205 -0.286570   \n",
       "\n",
       "           chi2  signal  brick_number  \n",
       "index                                  \n",
       "16     2.988174     0.0             1  \n",
       "102    1.829833     0.0             1  \n",
       "114    0.428966     0.0             1  \n",
       "209    0.638762     0.0             1  \n",
       "251    1.071702     0.0             1  "
      ]
     },
     "execution_count": 34,
     "metadata": {},
     "output_type": "execute_result"
    }
   ],
   "source": [
    "brk = df[df['brick_number']==1]\n",
    "brk.head()"
   ]
  },
  {
   "cell_type": "code",
   "execution_count": 17,
   "metadata": {},
   "outputs": [
    {
     "name": "stdout",
     "output_type": "stream",
     "text": [
      "894897\n"
     ]
    }
   ],
   "source": [
    "print(brk.size)"
   ]
  },
  {
   "cell_type": "code",
   "execution_count": 120,
   "metadata": {},
   "outputs": [
    {
     "data": {
      "text/plain": [
       "(array([ 839.,  217.,  707.,  288.,   79.,  344.,  195.,   77.,  186.,    6.]),\n",
       " array([    81.69627753,   5529.39216678,  10977.08805604,  16424.78394529,\n",
       "         21872.47983454,  27320.17572379,  32767.87161305,  38215.5675023 ,\n",
       "         43663.26339155,  49110.9592808 ,  54558.65517006]),\n",
       " <a list of 10 Patch objects>)"
      ]
     },
     "execution_count": 120,
     "metadata": {},
     "output_type": "execute_result"
    },
    {
     "data": {
      "image/png": "[encoded data removed]",
      "text/plain": [
       "<matplotlib.figure.Figure at 0x12848d990>"
      ]
     },
     "metadata": {},
     "output_type": "display_data"
    }
   ],
   "source": [
    "#np.diff returns the difference between the i+1 and i value of the array\n",
    "dist = np.sqrt(np.diff(brk[brk.signal==True].values[:,1])**2+np.diff(brk[brk.signal==True].values[:,2])**2+np.diff(brk[brk.signal==True].values[:,3])**2)\n",
    "dist2D = np.sqrt(np.diff(brk[brk.signal==True].values[:,1])**2+np.diff(brk[brk.signal==True].values[:,2])**2)\n",
    "#dist = np.array([])\n",
    "plt.hist(dist)\n"
   ]
  },
  {
   "cell_type": "code",
   "execution_count": 121,
   "metadata": {},
   "outputs": [
    {
     "data": {
      "text/plain": [
       "(array([ 839.,  217.,  707.,  288.,   79.,  344.,  195.,   77.,  186.,    6.]),\n",
       " array([    81.69015707,   5529.38658414,  10977.08301121,  16424.77943827,\n",
       "         21872.47586534,  27320.1722924 ,  32767.86871947,  38215.56514654,\n",
       "         43663.2615736 ,  49110.95800067,  54558.65442774]),\n",
       " <a list of 10 Patch objects>)"
      ]
     },
     "execution_count": 121,
     "metadata": {},
     "output_type": "execute_result"
    },
    {
     "data": {
      "image/png": "[encoded data removed]",
      "text/plain": [
       "<matplotlib.figure.Figure at 0x1279f3350>"
      ]
     },
     "metadata": {},
     "output_type": "display_data"
    }
   ],
   "source": [
    "plt.hist(dist2D)"
   ]
  },
  {
   "cell_type": "code",
   "execution_count": 119,
   "metadata": {},
   "outputs": [
    {
     "data": {
      "text/plain": [
       "<matplotlib.collections.PathCollection at 0x12800eb90>"
      ]
     },
     "execution_count": 119,
     "metadata": {},
     "output_type": "execute_result"
    },
    {
     "data": {
      "image/png": "[encoded data removed]",
      "text/plain": [
       "<matplotlib.figure.Figure at 0x12800ec90>"
      ]
     },
     "metadata": {},
     "output_type": "display_data"
    }
   ],
   "source": [
    "fig, ax = plt.subplots()\n",
    "ax.scatter(brk[brk.signal==True].values[:,1],brk[brk.signal==True].values[:,2])\n"
   ]
  },
  {
   "cell_type": "code",
   "execution_count": null,
   "metadata": {
    "collapsed": true
   },
   "outputs": [],
   "source": []
  },
  {
   "cell_type": "code",
   "execution_count": null,
   "metadata": {
    "collapsed": true
   },
   "outputs": [],
   "source": []
  },
  {
   "cell_type": "code",
   "execution_count": 112,
   "metadata": {},
   "outputs": [
    {
     "data": {
      "text/plain": [
       "<matplotlib.colorbar.Colorbar at 0x127bf2350>"
      ]
     },
     "execution_count": 112,
     "metadata": {},
     "output_type": "execute_result"
    },
    {
     "data": {
      "image/png": "[encoded data removed]",
      "text/plain": [
       "<matplotlib.figure.Figure at 0x127a696d0>"
      ]
     },
     "metadata": {},
     "output_type": "display_data"
    }
   ],
   "source": [
    "fig, ax = plt.subplots()\n",
    "#plt.hist2d(brk[brk.signal==True].values[:,1],brk[brk.signal==True].values[:,2],bins=(100,100))\n",
    "plt.hist2d(brk.values[:,1],brk.values[:,2],bins=(50,50),cmap='jet')\n",
    "plt.colorbar()"
   ]
  },
  {
   "cell_type": "code",
   "execution_count": 115,
   "metadata": {},
   "outputs": [
    {
     "data": {
      "text/plain": [
       "<matplotlib.colorbar.Colorbar at 0x1281a3390>"
      ]
     },
     "execution_count": 115,
     "metadata": {},
     "output_type": "execute_result"
    },
    {
     "data": {
      "image/png": "[encoded data removed]",
      "text/plain": [
       "<matplotlib.figure.Figure at 0x12800e310>"
      ]
     },
     "metadata": {},
     "output_type": "display_data"
    }
   ],
   "source": [
    "fig, ax = plt.subplots()\n",
    "plt.hist2d(brk[brk.signal==True].values[:,4],brk[brk.signal==True].values[:,5],bins=(100,100),cmap='jet')\n",
    "#plt.hist2d(brk.values[:,4],brk.values[:,5],bins=(50,50),cmap='jet')\n",
    "plt.colorbar()"
   ]
  },
  {
   "cell_type": "code",
   "execution_count": null,
   "metadata": {
    "collapsed": true
   },
   "outputs": [],
   "source": []
  }
 ],
 "metadata": {
  "kernelspec": {
   "display_name": "Python 2",
   "language": "python",
   "name": "python2"
  },
  "language_info": {
   "codemirror_mode": {
    "name": "ipython",
    "version": 2
   },
   "file_extension": ".py",
   "mimetype": "text/x-python",
   "name": "python",
   "nbconvert_exporter": "python",
   "pygments_lexer": "ipython2",
   "version": "2.7.13"
  }
 },
 "nbformat": 4,
 "nbformat_minor": 2
}
